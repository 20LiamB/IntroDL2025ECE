{
  "cells": [
    {
      "cell_type": "markdown",
      "id": "99a6b521",
      "metadata": {
        "id": "99a6b521"
      },
      "source": [
        "# Lab 3 Report:\n",
        "## Surpass Human Performance in Fashion MNIST Classificaion"
      ]
    },
    {
      "cell_type": "code",
      "execution_count": 180,
      "id": "835b6358",
      "metadata": {
        "id": "835b6358"
      },
      "outputs": [],
      "source": [
        "import matplotlib.pyplot as plt\n",
        "import torch\n",
        "import numpy as np"
      ]
    },
    {
      "cell_type": "code",
      "execution_count": 181,
      "id": "04a73760",
      "metadata": {
        "id": "04a73760"
      },
      "outputs": [],
      "source": [
        "from IPython.display import Image # For displaying images in colab jupyter cell"
      ]
    },
    {
      "cell_type": "code",
      "execution_count": 182,
      "id": "931b6374",
      "metadata": {
        "id": "931b6374"
      },
      "outputs": [],
      "source": [
        "# Image('lab4_exercise.png', width = 1000)"
      ]
    },
    {
      "cell_type": "markdown",
      "id": "9dcc1fbb",
      "metadata": {
        "id": "9dcc1fbb"
      },
      "source": [
        "## Prepare Data"
      ]
    },
    {
      "cell_type": "code",
      "execution_count": 183,
      "id": "5dfa7da9",
      "metadata": {
        "colab": {
          "base_uri": "https://localhost:8080/"
        },
        "id": "5dfa7da9",
        "outputId": "f21c2321-c9d7-4928-b44f-309b1df2f88c"
      },
      "outputs": [
        {
          "name": "stdout",
          "output_type": "stream",
          "text": [
            "Training Features Shape:  (10000, 28, 28)\n",
            "Training Targets Shape:  (10000,)\n",
            "Testing Features Shape:  (1000, 28, 28)\n",
            "Testing Targets Shape:  (1000,)\n"
          ]
        }
      ],
      "source": [
        "# Load Fashion-MNIST Dataset in Numpy\n",
        "\n",
        "# 10000 training features/targets where each feature is a greyscale image with shape (28, 28)\n",
        "train_features = np.load('fashion_mnist_train_features.npy')\n",
        "train_targets = np.load('fashion_mnist_train_targets.npy')\n",
        "\n",
        "# 1000 testing features/targets\n",
        "test_features = np.load('fashion_mnist_test_features.npy')\n",
        "test_targets = np.load('fashion_mnist_test_targets.npy')\n",
        "\n",
        "# Let's see the shapes of training/testing datasets\n",
        "print(\"Training Features Shape: \", train_features.shape)\n",
        "print(\"Training Targets Shape: \", train_targets.shape)\n",
        "print(\"Testing Features Shape: \", test_features.shape)\n",
        "print(\"Testing Targets Shape: \", test_targets.shape)"
      ]
    },
    {
      "cell_type": "code",
      "execution_count": 184,
      "id": "25c1e6ec",
      "metadata": {
        "colab": {
          "base_uri": "https://localhost:8080/",
          "height": 313
        },
        "id": "25c1e6ec",
        "outputId": "a4778179-6a12-4671-b916-d4fa70abce03"
      },
      "outputs": [
        {
          "data": {
            "text/plain": [
              "<matplotlib.image.AxesImage at 0x7a6aee5c54d0>"
            ]
          },
          "execution_count": 184,
          "metadata": {},
          "output_type": "execute_result"
        },
        {
          "data": {
            "image/png": "[encoded data removed]",
            "text/plain": [
              "<Figure size 1000x1000 with 3 Axes>"
            ]
          },
          "metadata": {},
          "output_type": "display_data"
        }
      ],
      "source": [
        "# Visualizing the first three training features (samples)\n",
        "\n",
        "plt.figure(figsize = (10, 10))\n",
        "\n",
        "plt.subplot(1,3,1)\n",
        "plt.imshow(train_features[0], cmap = 'Greys')\n",
        "\n",
        "plt.subplot(1,3,2)\n",
        "plt.imshow(train_features[1], cmap = 'Greys')\n",
        "\n",
        "plt.subplot(1,3,3)\n",
        "plt.imshow(train_features[2], cmap = 'Greys')"
      ]
    },
    {
      "cell_type": "code",
      "execution_count": 185,
      "id": "ac9be3f7",
      "metadata": {
        "id": "ac9be3f7"
      },
      "outputs": [],
      "source": [
        "# Perform standard scaling on the training and testing features\n",
        "# After scaling, make sure you reshape the training features back to (10000, 28, 28) and testing features to (1000, 28, 28)\n",
        "# since CNNs take 2D tensors as inputs\n",
        "from sklearn.preprocessing import StandardScaler\n",
        "\n",
        "scaler = StandardScaler()\n",
        "\n",
        "train_features = scaler.fit_transform(train_features.reshape(10000, 784)).reshape(10000, 28, 28)\n",
        "test_features = scaler.fit_transform(test_features.reshape(1000, 784)).reshape(1000, 28, 28)"
      ]
    },
    {
      "cell_type": "code",
      "execution_count": 186,
      "id": "a2025caf",
      "metadata": {
        "id": "a2025caf"
      },
      "outputs": [],
      "source": [
        "# Take the first 1000 (or randomly select 1000) training features and targets as validation set\n",
        "\n",
        "from sklearn.model_selection import train_test_split\n",
        "\n",
        "train_features, validation_features, train_targets, validation_targets = train_test_split(train_features,\n",
        "                                                                                          train_targets,\n",
        "                                                                                          train_size=0.9,\n",
        "                                                                                          random_state=1)\n"
      ]
    },
    {
      "cell_type": "code",
      "execution_count": 187,
      "id": "8c8f2369",
      "metadata": {
        "id": "8c8f2369"
      },
      "outputs": [],
      "source": [
        "# Reshape train/validation/test sets to conform to PyTorch's (N, Channels, Height, Width) standard for CNNs\n",
        "\n",
        "train_features =  np.reshape(train_features, (9000, 1, 28, 28))\n",
        "validation_features = np.reshape(validation_features, (1000, 1, 28, 28))\n",
        "test_features = np.reshape(test_features, (1000, 1, 28, 28))"
      ]
    },
    {
      "cell_type": "markdown",
      "id": "9b3ac541",
      "metadata": {
        "id": "9b3ac541"
      },
      "source": [
        "## Define Model"
      ]
    },
    {
      "cell_type": "code",
      "execution_count": 188,
      "id": "c8355384",
      "metadata": {
        "id": "c8355384"
      },
      "outputs": [],
      "source": [
        "# Define your CNN architecture here\n",
        "\n",
        "class CNNModel(torch.nn.Module):\n",
        "\n",
        "    def __init__(self, input_channels=1):\n",
        "\n",
        "        super(CNNModel, self).__init__()\n",
        "\n",
        "        self.conv1 = torch.nn.Conv2d(1, 32, kernel_size=3, padding=1)\n",
        "        self.bn1 = torch.nn.BatchNorm2d(32)\n",
        "        self.conv2 = torch.nn.Conv2d(32, 32, kernel_size=3, padding=1)\n",
        "        self.pool1 = torch.nn.MaxPool2d(2)\n",
        "\n",
        "\n",
        "        self.conv3 = torch.nn.Conv2d(32, 64, kernel_size=3, padding=1)\n",
        "        self.bn2 = torch.nn.BatchNorm2d(64)\n",
        "        self.conv4 = torch.nn.Conv2d(64, 64, kernel_size=3, padding=1)\n",
        "\n",
        "        self.conv5 = torch.nn.Conv2d(64, 128, kernel_size=3, padding=1)\n",
        "        self.bn3 = torch.nn.BatchNorm2d(128)\n",
        "        self.conv6 = torch.nn.Conv2d(128, 128, kernel_size=3, padding=1)\n",
        "\n",
        "        self.fc1 = torch.nn.Linear(128 * 3 * 3, 512)\n",
        "        self.bn4 = torch.nn.BatchNorm1d(512)\n",
        "        self.drop1 = torch.nn.Dropout(0.3)\n",
        "\n",
        "        self.fc2 = torch.nn.Linear(512, 256)\n",
        "        self.bn5 = torch.nn.BatchNorm1d(256)\n",
        "        self.drop2 = torch.nn.Dropout(0.3)\n",
        "\n",
        "        self.fc3 = torch.nn.Linear(256, 10)\n",
        "\n",
        "\n",
        "    def forward(self, x):\n",
        "\n",
        "        # Note: If you are using CrossEntropyLoss() do NOT apply softmax to the final ouput\n",
        "        # since it's incorporated within the loss function\n",
        "        x = torch.nn.functional.relu(self.bn1(self.conv1(x)))\n",
        "        x = torch.nn.functional.relu(self.bn1(self.conv2(x)))\n",
        "        x = self.pool1(x)\n",
        "\n",
        "        x = torch.nn.functional.relu(self.bn2(self.conv3(x)))\n",
        "        x = torch.nn.functional.relu(self.bn2(self.conv4(x)))\n",
        "        x = self.pool1(x)\n",
        "\n",
        "        x = torch.nn.functional.relu(self.bn3(self.conv5(x)))\n",
        "        x = torch.nn.functional.relu(self.bn3(self.conv6(x)))\n",
        "        x = self.pool1(x)\n",
        "\n",
        "        x = torch.flatten(x, 1)\n",
        "        x = torch.nn.functional.relu(self.bn4(self.fc1(x)))\n",
        "        x = self.drop1(x)\n",
        "\n",
        "        x = torch.nn.functional.relu(self.bn5(self.fc2(x)))\n",
        "        x = self.drop2(x)\n",
        "\n",
        "        x = self.fc3(x)\n",
        "\n",
        "        return x"
      ]
    },
    {
      "cell_type": "markdown",
      "id": "b9624830",
      "metadata": {
        "id": "b9624830"
      },
      "source": [
        "## Select Hyperparameters"
      ]
    },
    {
      "cell_type": "code",
      "execution_count": 189,
      "id": "1d668a01",
      "metadata": {
        "colab": {
          "base_uri": "https://localhost:8080/"
        },
        "id": "1d668a01",
        "outputId": "7ae59a9f-19b5-49e1-eb3b-d772098ec5ba"
      },
      "outputs": [
        {
          "data": {
            "text/plain": [
              "CNNModel(\n",
              "  (conv1): Conv2d(1, 32, kernel_size=(3, 3), stride=(1, 1), padding=(1, 1))\n",
              "  (bn1): BatchNorm2d(32, eps=1e-05, momentum=0.1, affine=True, track_running_stats=True)\n",
              "  (conv2): Conv2d(32, 32, kernel_size=(3, 3), stride=(1, 1), padding=(1, 1))\n",
              "  (pool1): MaxPool2d(kernel_size=2, stride=2, padding=0, dilation=1, ceil_mode=False)\n",
              "  (conv3): Conv2d(32, 64, kernel_size=(3, 3), stride=(1, 1), padding=(1, 1))\n",
              "  (bn2): BatchNorm2d(64, eps=1e-05, momentum=0.1, affine=True, track_running_stats=True)\n",
              "  (conv4): Conv2d(64, 64, kernel_size=(3, 3), stride=(1, 1), padding=(1, 1))\n",
              "  (conv5): Conv2d(64, 128, kernel_size=(3, 3), stride=(1, 1), padding=(1, 1))\n",
              "  (bn3): BatchNorm2d(128, eps=1e-05, momentum=0.1, affine=True, track_running_stats=True)\n",
              "  (conv6): Conv2d(128, 128, kernel_size=(3, 3), stride=(1, 1), padding=(1, 1))\n",
              "  (fc1): Linear(in_features=1152, out_features=512, bias=True)\n",
              "  (bn4): BatchNorm1d(512, eps=1e-05, momentum=0.1, affine=True, track_running_stats=True)\n",
              "  (drop1): Dropout(p=0.3, inplace=False)\n",
              "  (fc2): Linear(in_features=512, out_features=256, bias=True)\n",
              "  (bn5): BatchNorm1d(256, eps=1e-05, momentum=0.1, affine=True, track_running_stats=True)\n",
              "  (drop2): Dropout(p=0.3, inplace=False)\n",
              "  (fc3): Linear(in_features=256, out_features=10, bias=True)\n",
              ")"
            ]
          },
          "execution_count": 189,
          "metadata": {},
          "output_type": "execute_result"
        }
      ],
      "source": [
        "# Fix the random seed so that model performance is reproducible\n",
        "torch.manual_seed(55)\n",
        "\n",
        "device = torch.device(\"cuda:0\" if torch.cuda.is_available() else \"cpu\")\n",
        "\n",
        "# Initialize your CNN model\n",
        "\n",
        "model = CNNModel().to(device)\n",
        "\n",
        "# Define learning rate, epoch and batchsize for mini-batch gradient\n",
        "\n",
        "learning_rate = 1e-3\n",
        "epochs = 30\n",
        "batchsize = 64\n",
        "\n",
        "# Define loss function and optimizer\n",
        "\n",
        "loss_func = torch.nn.CrossEntropyLoss()\n",
        "optimizer = torch.optim.Adam(model.parameters(), lr=learning_rate)\n",
        "\n",
        "model"
      ]
    },
    {
      "cell_type": "markdown",
      "id": "9c3045df",
      "metadata": {
        "id": "9c3045df"
      },
      "source": [
        "## Identify Tracked Values"
      ]
    },
    {
      "cell_type": "markdown",
      "id": "a1fbc523",
      "metadata": {
        "id": "a1fbc523"
      },
      "source": [
        "## Train Model"
      ]
    },
    {
      "cell_type": "code",
      "execution_count": 190,
      "id": "523a6311",
      "metadata": {
        "id": "523a6311"
      },
      "outputs": [],
      "source": [
        "import tqdm\n",
        "\n",
        "def train(model,\n",
        "          batch_split_num,\n",
        "          train_batches_features,\n",
        "          train_batches_targets,\n",
        "          validation_inputs,\n",
        "          validation_targets,\n",
        "          test_inputs,\n",
        "          test_targets):\n",
        "\n",
        "    # For each mini-batch number k, grab k-th training feature mini-batch and target mini-batch\n",
        "    # and perform fwd/bwd pass on the network\n",
        "\n",
        "    loss_list = []\n",
        "\n",
        "    for k in range(batch_split_num):\n",
        "\n",
        "        optimizer.zero_grad()\n",
        "\n",
        "        train_batch_outputs = model(train_batches_features[k])\n",
        "\n",
        "        loss = loss_func(train_batch_outputs, train_batches_targets[k])\n",
        "\n",
        "        loss_list.append(loss.item())\n",
        "\n",
        "        loss.backward()\n",
        "\n",
        "        optimizer.step()\n",
        "\n",
        "    # Compute Validation Accuracy ----------------------------------------------------------------------\n",
        "\n",
        "    with torch.no_grad():\n",
        "\n",
        "        validation_outputs = model(validation_inputs)\n",
        "\n",
        "        correct = (torch.argmax(validation_outputs, dim=1) ==\n",
        "                validation_targets).type(torch.FloatTensor)\n",
        "\n",
        "        test_outputs = model(test_inputs)\n",
        "        test_correct = (torch.argmax(test_outputs, dim=1) ==\n",
        "                test_targets).type(torch.FloatTensor)\n",
        "\n",
        "        return loss_list, correct.mean(), test_correct.mean()\n"
      ]
    },
    {
      "cell_type": "code",
      "execution_count": 191,
      "id": "02a5f590",
      "metadata": {
        "id": "02a5f590"
      },
      "outputs": [],
      "source": [
        "# Convert the training, validation, testing dataset (NumPy arrays) into torch tensors\n",
        "# Make sure to shuffle training dataset for each epoch to incorporate cross-validation during training\n",
        "# Split your training features/targets into mini-batches if using mini-batch gradient\n",
        "\n",
        "train_inputs = torch.from_numpy(train_features).float().to(device)\n",
        "train_targets = torch.from_numpy(train_targets).long().to(device)\n",
        "\n",
        "testing_inputs = torch.from_numpy(test_features).float().to(device)\n",
        "testing_targets = torch.from_numpy(test_targets).long().to(device)\n",
        "\n",
        "validation_inputs = torch.from_numpy(validation_features).float().to(device)\n",
        "validation_targets = torch.from_numpy(validation_targets).long().to(device)\n",
        "\n"
      ]
    },
    {
      "cell_type": "code",
      "execution_count": 192,
      "id": "5AKGCq3fUPv1",
      "metadata": {
        "colab": {
          "base_uri": "https://localhost:8080/"
        },
        "id": "5AKGCq3fUPv1",
        "outputId": "dc0b2555-bfd8-4834-9f12-6c3454b72754"
      },
      "outputs": [
        {
          "name": "stderr",
          "output_type": "stream",
          "text": [
            "100%|██████████| 30/30 [00:30<00:00,  1.01s/it]\n"
          ]
        }
      ],
      "source": [
        "train_loss_list = []\n",
        "validation_accuracy_list = []\n",
        "\n",
        "# Training Loop ---------------------------------------------------------------------------------------\n",
        "scheduler = torch.optim.lr_scheduler.StepLR(optimizer, step_size=10, gamma=0.5)\n",
        "\n",
        "for epoch in tqdm.trange(epochs):\n",
        "    train_batches_features = torch.split(train_inputs, batchsize)\n",
        "    train_batches_targets = torch.split(train_targets, batchsize)\n",
        "    batch_split_num = len(train_batches_features)\n",
        "\n",
        "    loss_list, val_acc, test_acc = train(model=model,\n",
        "          batch_split_num=batch_split_num,\n",
        "          train_batches_features=train_batches_features,\n",
        "          train_batches_targets=train_batches_targets,\n",
        "          validation_inputs=validation_inputs,\n",
        "          validation_targets=validation_targets,\n",
        "          test_inputs=testing_inputs,\n",
        "          test_targets=testing_targets)\n",
        "\n",
        "    train_loss_list.extend(loss_list)\n",
        "    validation_accuracy_list.append(val_acc)\n",
        "\n",
        "    scheduler.step()\n"
      ]
    },
    {
      "cell_type": "markdown",
      "id": "adf9a22e",
      "metadata": {
        "id": "adf9a22e"
      },
      "source": [
        "## Visualize & Evaluate Model"
      ]
    },
    {
      "cell_type": "code",
      "execution_count": 193,
      "id": "3bc0863f",
      "metadata": {
        "id": "3bc0863f"
      },
      "outputs": [],
      "source": [
        "# Seaborn for prettier plot\n",
        "\n",
        "import seaborn as sns\n",
        "\n",
        "sns.set(style = 'whitegrid', font_scale = 1)"
      ]
    },
    {
      "cell_type": "code",
      "execution_count": 197,
      "id": "b23f333c",
      "metadata": {
        "colab": {
          "base_uri": "https://localhost:8080/",
          "height": 660
        },
        "id": "b23f333c",
        "outputId": "497f3a85-336f-4653-8dba-84fd6e4c8a8d"
      },
      "outputs": [
        {
          "data": {
            "image/png": "[encoded data removed]",
            "text/plain": [
              "<Figure size 1500x900 with 2 Axes>"
            ]
          },
          "metadata": {},
          "output_type": "display_data"
        }
      ],
      "source": [
        "# Visualize training loss\n",
        "\n",
        "plt.figure(figsize = (15, 9))\n",
        "\n",
        "plt.subplot(2, 1, 1)\n",
        "plt.plot(train_loss_list, linewidth = 3)\n",
        "plt.ylabel(\"training loss\")\n",
        "plt.xlabel(\"iterations\")\n",
        "sns.despine()\n",
        "\n",
        "plt.subplot(2, 1, 2)\n",
        "plt.plot(validation_accuracy_list, linewidth = 3, color='gold')\n",
        "plt.ylabel(\"validation accuracy\")\n",
        "sns.despine()"
      ]
    },
    {
      "cell_type": "code",
      "execution_count": 195,
      "id": "ee8589b6",
      "metadata": {
        "colab": {
          "base_uri": "https://localhost:8080/"
        },
        "id": "ee8589b6",
        "outputId": "d661792d-2b47-45f1-bcdd-ba1add2faedb"
      },
      "outputs": [
        {
          "name": "stdout",
          "output_type": "stream",
          "text": [
            "Testing accuracy: 0.9070000052452087\n"
          ]
        }
      ],
      "source": [
        "# Compute the testing accuracy\n",
        "\n",
        "# Compute the testing accuracy\n",
        "\n",
        "\n",
        "with torch.no_grad():\n",
        "\n",
        "    y_pred_test = model(testing_inputs)\n",
        "\n",
        "    correct = (torch.argmax(y_pred_test, dim=1) == testing_targets).type(torch.FloatTensor)\n",
        "\n",
        "    print(f'Testing accuracy: {correct.mean()}')"
      ]
    },
    {
      "cell_type": "code",
      "execution_count": 196,
      "id": "95a5fdb2",
      "metadata": {
        "colab": {
          "base_uri": "https://localhost:8080/"
        },
        "id": "95a5fdb2",
        "outputId": "5167f099-3ab4-4c8a-a641-273faa4e2743",
        "scrolled": true
      },
      "outputs": [
        {
          "name": "stdout",
          "output_type": "stream",
          "text": [
            "\n",
            "Test Accuracy per class:\n",
            "T-shirt/top : 87.85%\n",
            "Trouser     : 97.14%\n",
            "Pullover    : 84.68%\n",
            "Dress       : 87.10%\n",
            "Coat        : 81.74%\n",
            "Sandal      : 96.55%\n",
            "Shirt       : 80.41%\n",
            "Sneaker     : 97.89%\n",
            "Bag         : 96.84%\n",
            "Ankle boot  : 94.74%\n",
            "The model is best at classifying Sneakers with a testing accuracy of 97.89%\n",
            "and worst at classifying Shirts with a testing accuracy of 80.41%.\n"
          ]
        }
      ],
      "source": [
        "# Print the testing accuracy for each fashion class. Your code should produce something that looks like:\n",
        "\n",
        "# \"Accuracy of T-shirt/top: 93.5 %\"\n",
        "# \"Accuracy of Trouser: 89.3 %\"\n",
        "# etc...\n",
        "\n",
        "# What's the fashion item that your model had the hardest time classifying?\n",
        "\n",
        "# YOUR CODE HERE\n",
        "\n",
        "class_names = ['T-shirt/top', 'Trouser', 'Pullover', 'Dress', 'Coat',\n",
        "               'Sandal', 'Shirt', 'Sneaker', 'Bag', 'Ankle boot']\n",
        "\n",
        "correct_per_class = [0] * 10\n",
        "total_per_class = [0] * 10\n",
        "\n",
        "with torch.no_grad():\n",
        "    outputs = model(testing_inputs)\n",
        "    _, predicted = torch.max(outputs, 1)\n",
        "    for label, prediction in zip(testing_targets, predicted):\n",
        "        total_per_class[label] += 1\n",
        "        if label == prediction:\n",
        "            correct_per_class[label] += 1\n",
        "\n",
        "print(\"\\nTest Accuracy per class:\")\n",
        "accuracies = []\n",
        "for i in range(10):\n",
        "    accuracy = 100 * correct_per_class[i] / total_per_class[i]\n",
        "    accuracies.append(accuracy)\n",
        "    print(f\"{class_names[i]:<12}: {accuracy:.2f}%\")\n",
        "\n",
        "print(f\"The model is best at classifying {class_names[np.argmax(accuracies)]}s with a testing accuracy of {np.max(accuracies).round(2)}%\\nand worst at classifying {class_names[np.argmin(accuracies)]}s with a testing accuracy of {np.min(accuracies).round(2)}%.\")"
      ]
    },
    {
      "cell_type": "code",
      "execution_count": 196,
      "id": "v5XuCZDZjjrV",
      "metadata": {
        "id": "v5XuCZDZjjrV"
      },
      "outputs": [],
      "source": []
    }
  ],
  "metadata": {
    "accelerator": "GPU",
    "colab": {
      "gpuType": "T4",
      "provenance": []
    },
    "kernelspec": {
      "display_name": "ee596",
      "language": "python",
      "name": "python3"
    },
    "language_info": {
      "codemirror_mode": {
        "name": "ipython",
        "version": 3
      },
      "file_extension": ".py",
      "mimetype": "text/x-python",
      "name": "python",
      "nbconvert_exporter": "python",
      "pygments_lexer": "ipython3",
      "version": "3.13.2"
    }
  },
  "nbformat": 4,
  "nbformat_minor": 5
}
